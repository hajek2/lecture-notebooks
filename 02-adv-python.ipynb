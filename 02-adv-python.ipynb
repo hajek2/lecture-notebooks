{
  "nbformat": 4,
  "nbformat_minor": 0,
  "metadata": {
    "colab": {
      "name": "02-adv-python.ipynb",
      "provenance": [],
      "collapsed_sections": [],
      "toc_visible": true,
      "authorship_tag": "ABX9TyPpleTrRZJGdDGJRamOwF8E",
      "include_colab_link": true
    },
    "kernelspec": {
      "name": "python3",
      "display_name": "Python 3"
    }
  },
  "cells": [
    {
      "cell_type": "markdown",
      "metadata": {
        "id": "view-in-github",
        "colab_type": "text"
      },
      "source": [
        "<a href=\"https://colab.research.google.com/github/fdluiuc/lecture-notebooks/blob/master/02-adv-python.ipynb\" target=\"_parent\"><img src=\"https://colab.research.google.com/assets/colab-badge.svg\" alt=\"Open In Colab\"/></a>"
      ]
    },
    {
      "cell_type": "markdown",
      "metadata": {
        "id": "pnLlylevOE-t",
        "colab_type": "text"
      },
      "source": [
        "#### Initialize Notebook\n",
        "\n",
        "This course notebook is based upon material from:\n",
        "\n",
        "- https://colab.research.google.com/notebooks/io.ipynb"
      ]
    },
    {
      "cell_type": "code",
      "metadata": {
        "id": "_3HG8k9JOjRx",
        "colab_type": "code",
        "outputId": "56023b9b-1a39-4f46-c5a3-fd0a74b26345",
        "colab": {
          "base_uri": "https://localhost:8080/",
          "height": 51
        }
      },
      "source": [
        "try:\n",
        "  from google.colab import drive\n",
        "  # Mount to obtain access to files on Google Drive\n",
        "  drive.mount('/content/drive', force_remount = True)\n",
        "  is_google_colab = True\n",
        "  print(\"Notebook is on Google CoLab\")\n",
        "except:\n",
        "  is_google_colab = False\n",
        "  print(\"Notebook is begin run locally or through another source.\")\n"
      ],
      "execution_count": 0,
      "outputs": [
        {
          "output_type": "stream",
          "text": [
            "Mounted at /content/drive\n",
            "Notebook is on Google CoLab\n"
          ],
          "name": "stdout"
        }
      ]
    },
    {
      "cell_type": "markdown",
      "metadata": {
        "id": "LiJBeivbJxMl",
        "colab_type": "text"
      },
      "source": [
        "# Data Structures\n",
        "\n"
      ]
    },
    {
      "cell_type": "markdown",
      "metadata": {
        "id": "Z2nAl5_bZ-T8",
        "colab_type": "text"
      },
      "source": [
        "### Overview\n",
        "\n",
        "**Definitions**:\n",
        "\n",
        "- immutable objects are locked or frozen in their initial state. \n",
        "- mutable objects can be modified.\n",
        "\n",
        "---\n",
        "\n",
        "**Definitions**:\n",
        "\n",
        "- ordered objects are sorted or arranged in either:\n",
        "    - an ascending (1, 2, 3) or \n",
        "    - a descending (3, 2, 1) manner\n",
        "- unordered objects are not sorted or arranged.\n",
        "\n",
        "---\n",
        "\n",
        "Four structures:\n",
        "\n",
        "![Overview of Python Data Structures](data:image/png;base64,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)\n",
        "\n",
        "---\n",
        "\n",
        "Generally, these structures are used to manipulate and handle data within Python. Though, you will rarely encounter the `tuple` structure. That said, this structure is the most problematic as it is immutable, or unable to have its data changed."
      ]
    },
    {
      "cell_type": "code",
      "metadata": {
        "id": "kRjWi-GBJvDp",
        "colab_type": "code",
        "outputId": "75194805-2487-4fed-c29c-1dfb139c6c3a",
        "colab": {
          "base_uri": "https://localhost:8080/",
          "height": 85
        }
      },
      "source": [
        "# Dictionary\n",
        "dict_example = {'course': 'stat', 'deptcode': '430', 'shortname': 'fdl', 'org':'uiuc'}\n",
        "print(dict_example)\n",
        "\n",
        "# Set\n",
        "set_example = {'stat', '430', 'fdl', 'uiuc'}\n",
        "print(set_example)\n",
        "\n",
        "# List\n",
        "list_example = ['stat', '430', 'fdl', 'uiuc']\n",
        "print(list_example)\n",
        "\n",
        "# Tuple\n",
        "tuple_example = ('stat', '430', 'fdl', 'uiuc')\n",
        "print(tuple_example)\n"
      ],
      "execution_count": 0,
      "outputs": [
        {
          "output_type": "stream",
          "text": [
            "{'course': 'stat', 'deptcode': '430', 'shortname': 'fdl', 'org': 'uiuc'}\n",
            "{'uiuc', 'fdl', '430', 'stat'}\n",
            "['stat', '430', 'fdl', 'uiuc']\n",
            "('stat', '430', 'fdl', 'uiuc')\n"
          ],
          "name": "stdout"
        }
      ]
    },
    {
      "cell_type": "markdown",
      "metadata": {
        "id": "UaRvDER7L_Gf",
        "colab_type": "text"
      },
      "source": [
        "## *Your* Turn `[ ]` vs `( )`\n",
        "\n",
        "What happens when you try to change:\n",
        "\n",
        "1. The second element in `list_example` to 'statistics'\n",
        "2. The third element in `tuple_example` to \n",
        "'486'\n",
        "\n",
        "Print the results."
      ]
    },
    {
      "cell_type": "code",
      "metadata": {
        "id": "89_msWi8Lpre",
        "colab_type": "code",
        "colab": {}
      },
      "source": [
        "# Structures\n",
        "list_example = ['stat', '430', 'fdl', 'uiuc']\n",
        "tuple_example = ('stat', '430', 'fdl', 'uiuc')\n",
        "\n",
        "# Modify code ..."
      ],
      "execution_count": 0,
      "outputs": []
    },
    {
      "cell_type": "markdown",
      "metadata": {
        "id": "vSAJRag8LsWM",
        "colab_type": "text"
      },
      "source": [
        "In your own words, describe what happened:\n",
        "\n",
        "\n"
      ]
    },
    {
      "cell_type": "markdown",
      "metadata": {
        "id": "oU7FNW4BdQn_",
        "colab_type": "text"
      },
      "source": [
        "# Dictionary\n",
        "\n"
      ]
    },
    {
      "cell_type": "code",
      "metadata": {
        "id": "0Ay5oeijdWJi",
        "colab_type": "code",
        "outputId": "aa5b45b2-8817-4ae2-8f9e-5c29df7f14a0",
        "colab": {
          "base_uri": "https://localhost:8080/",
          "height": 153
        }
      },
      "source": [
        "# Dictionary Overview\n",
        "dict_example = {'course': 'stat', 'deptcode': '430', 'shortname': 'fdl', 'org':'uiuc'}\n",
        "\n",
        "# Display key names\n",
        "print(dict_example.keys())\n",
        "\n",
        "# Display values\n",
        "print(dict_example.values())\n",
        "print(dict_example)\n",
        "# Retrieve a value with a check.\n",
        "print(dict_example.get('deptcode', 0))\n",
        "\n",
        "for key, value in enumerate(dict_example):\n",
        "   print(f\"{key}: {value}: {dict_example.get(value, 'none')}\")\n"
      ],
      "execution_count": 0,
      "outputs": [
        {
          "output_type": "stream",
          "text": [
            "dict_keys(['course', 'deptcode', 'shortname', 'org'])\n",
            "dict_values(['stat', '430', 'fdl', 'uiuc'])\n",
            "{'course': 'stat', 'deptcode': '430', 'shortname': 'fdl', 'org': 'uiuc'}\n",
            "430\n",
            "0: course: stat\n",
            "1: deptcode: 430\n",
            "2: shortname: fdl\n",
            "3: org: uiuc\n"
          ],
          "name": "stdout"
        }
      ]
    },
    {
      "cell_type": "markdown",
      "metadata": {
        "id": "yzjvznmAdUf6",
        "colab_type": "text"
      },
      "source": [
        "#### Your Turn\n",
        "\n",
        "Create your own dictionary consisting of 3 words with their definition.\n",
        "\n",
        "What two data structure might need to be combined? "
      ]
    },
    {
      "cell_type": "code",
      "metadata": {
        "id": "xUW1o76FhkJ6",
        "colab_type": "code",
        "outputId": "2aa5e5cb-0f7c-4e00-e1aa-b8a3e3a4199c",
        "colab": {
          "base_uri": "https://localhost:8080/",
          "height": 130
        }
      },
      "source": [
        "# Code for your dictionary....\n",
        "\n",
        "my_dictionary = ...\n",
        "\n",
        "for ___ in ________:\n",
        "  print(f\"{____[____]}\")"
      ],
      "execution_count": 0,
      "outputs": [
        {
          "output_type": "error",
          "ename": "SyntaxError",
          "evalue": "ignored",
          "traceback": [
            "\u001b[0;36m  File \u001b[0;32m\"<ipython-input-31-0b7aa95c66f5>\"\u001b[0;36m, line \u001b[0;32m4\u001b[0m\n\u001b[0;31m    for ___ in ________:\u001b[0m\n\u001b[0m                        ^\u001b[0m\n\u001b[0;31mSyntaxError\u001b[0m\u001b[0;31m:\u001b[0m unexpected EOF while parsing\n"
          ]
        }
      ]
    },
    {
      "cell_type": "markdown",
      "metadata": {
        "id": "xkwt5blydPBD",
        "colab_type": "text"
      },
      "source": [
        "# Set"
      ]
    },
    {
      "cell_type": "code",
      "metadata": {
        "id": "MG0QoP5GZA3-",
        "colab_type": "code",
        "outputId": "eab176fa-c1f1-49e2-c0bd-adf3b8c39864",
        "colab": {
          "base_uri": "https://localhost:8080/",
          "height": 153
        }
      },
      "source": [
        "# Create same set piece-wise\n",
        "set_build_example = set()\n",
        "set_build_example.add('stat')\n",
        "set_build_example.add('430')\n",
        "set_build_example.add('fdl')\n",
        "set_build_example.add('uiuc')\n",
        "\n",
        "# See contents\n",
        "for i in enumerate(set_build_example):\n",
        "  print(f\"{i}\")\n",
        "\n",
        "# More control\n",
        "for i,j in enumerate(set_build_example):\n",
        "  print(f\"At {i} value is: {j}\")\n"
      ],
      "execution_count": 0,
      "outputs": [
        {
          "output_type": "stream",
          "text": [
            "(0, 'uiuc')\n",
            "(1, 'fdl')\n",
            "(2, '430')\n",
            "(3, 'stat')\n",
            "At 0 value is: uiuc\n",
            "At 1 value is: fdl\n",
            "At 2 value is: 430\n",
            "At 3 value is: stat\n"
          ],
          "name": "stdout"
        }
      ]
    },
    {
      "cell_type": "markdown",
      "metadata": {
        "id": "4W_6z400lS5s",
        "colab_type": "text"
      },
      "source": [
        "# Functionals\n",
        "\n"
      ]
    },
    {
      "cell_type": "code",
      "metadata": {
        "id": "uNd9E399lWzw",
        "colab_type": "code",
        "outputId": "4dce018c-0150-4332-fbba-935ca571099a",
        "colab": {
          "base_uri": "https://localhost:8080/",
          "height": 51
        }
      },
      "source": [
        "# Create a function\n",
        "def square(x):\n",
        "    return x**2\n",
        "\n",
        "# Generate date\n",
        "my_list = [1, 2, 3, 4]\n",
        "\n",
        "# Iterate over data\n",
        "my_squared_list = list(map(square, my_list))\n",
        "\n",
        "# Display results\n",
        "print(my_squared_list)\n",
        "print(my_squared_list2)"
      ],
      "execution_count": 0,
      "outputs": [
        {
          "output_type": "stream",
          "text": [
            "[1, 4, 9, 16]\n",
            "[1, 4, 9, 16]\n"
          ],
          "name": "stdout"
        }
      ]
    },
    {
      "cell_type": "markdown",
      "metadata": {
        "id": "DHS8zYybZagX",
        "colab_type": "text"
      },
      "source": [
        "### List Comprehension"
      ]
    },
    {
      "cell_type": "code",
      "metadata": {
        "id": "XTdVP2P1Z_CG",
        "colab_type": "code",
        "colab": {}
      },
      "source": [
        "# List comprehension\n",
        "# [expression for item in list if conditional]\n",
        "my_squared_list2 = [square(x) for x in my_list]\n",
        "\n",
        "print(my_squared_list2)\n"
      ],
      "execution_count": 0,
      "outputs": []
    },
    {
      "cell_type": "markdown",
      "metadata": {
        "id": "M3lbQ58WZstX",
        "colab_type": "text"
      },
      "source": [
        "### `for` loop equivalence"
      ]
    },
    {
      "cell_type": "code",
      "metadata": {
        "id": "PtTl0cGTZrDv",
        "colab_type": "code",
        "outputId": "d54155ee-59b2-4b4a-9268-47cbb5627880",
        "colab": {
          "base_uri": "https://localhost:8080/",
          "height": 34
        }
      },
      "source": [
        "# Behind the scenes\n",
        "# Maps and comprehension setup\n",
        "my_squared_list2 = [ ]\n",
        "for item in my_list:\n",
        "   # .append() adds element to list.\n",
        "   my_squared_list2.append(\n",
        "       square(item)\n",
        "    )\n",
        "\n",
        "print(my_squared_list2)"
      ],
      "execution_count": 0,
      "outputs": [
        {
          "output_type": "stream",
          "text": [
            "[1, 4, 9, 16]\n"
          ],
          "name": "stdout"
        }
      ]
    },
    {
      "cell_type": "markdown",
      "metadata": {
        "id": "Mndb37iPoX8n",
        "colab_type": "text"
      },
      "source": [
        "### Lambdas"
      ]
    },
    {
      "cell_type": "code",
      "metadata": {
        "id": "c78yZ5MioJdr",
        "colab_type": "code",
        "outputId": "d8428c58-51e8-4c0e-ccd4-61614ba52b51",
        "colab": {
          "base_uri": "https://localhost:8080/",
          "height": 51
        }
      },
      "source": [
        "lambda x: x + 430                    # No Name Function\n",
        "\n",
        "print(lambda x: x + 430)\n",
        "\n",
        "(lambda x: x + 430)(2)             # Anonymous definition and call\n",
        "# [1] 432\n",
        "\n",
        "add_430 = lambda x: x + 430 # Named function \n",
        "print(add_430(2))\n",
        "# [1] 432\n",
        "\n",
        "def add_430_v2(x):                   # Named function\n",
        "  return x + 430 "
      ],
      "execution_count": 0,
      "outputs": [
        {
          "output_type": "stream",
          "text": [
            "<function <lambda> at 0x7f8f47e132f0>\n",
            "432\n"
          ],
          "name": "stdout"
        }
      ]
    },
    {
      "cell_type": "code",
      "metadata": {
        "id": "u3uz-XfLpd9z",
        "colab_type": "code",
        "outputId": "0c719df0-eb3d-4ed1-e259-e9bd7b3c5856",
        "colab": {
          "base_uri": "https://localhost:8080/",
          "height": 34
        }
      },
      "source": [
        "from functools import reduce\n",
        "\n",
        "vals = [ 0, 3, 1, -2]\n",
        "subtractions = reduce(lambda x, y: x - y, vals)\n",
        "print(subtractions)\n"
      ],
      "execution_count": 0,
      "outputs": [
        {
          "output_type": "stream",
          "text": [
            "-2\n"
          ],
          "name": "stdout"
        }
      ]
    },
    {
      "cell_type": "markdown",
      "metadata": {
        "id": "XMjXACV8oayz",
        "colab_type": "text"
      },
      "source": [
        "#### Your Turn\n",
        "\n",
        "1. Convert the map function from using a named function to using a lambda\n",
        " \n",
        "```\n",
        "list(map(______, my_list))\n",
        "```\n",
        "\n",
        "2. Convert the list items to absolute values using a functional.\n",
        "\n"
      ]
    },
    {
      "cell_type": "code",
      "metadata": {
        "id": "EIQSDGyttItF",
        "colab_type": "code",
        "colab": {}
      },
      "source": [
        "# 1. Convert the map function from using a named function to using a lambda\n",
        "list(map(______, my_list))\n",
        "\n",
        "# 2. Obtain the absolute value of each item in the list using a functional.\n",
        "x = [-5, -2, 0, 6, 17]\n",
        "\n",
        "# functional here."
      ],
      "execution_count": 0,
      "outputs": []
    },
    {
      "cell_type": "markdown",
      "metadata": {
        "id": "A_-564gPuVEz",
        "colab_type": "text"
      },
      "source": [
        "## Filter\n",
        "\n",
        "Remove elements from a collection that do not match a specific criteria."
      ]
    },
    {
      "cell_type": "code",
      "metadata": {
        "id": "pwgxUcWNuTma",
        "colab_type": "code",
        "colab": {}
      },
      "source": [
        "def is_positive_number(x):\n",
        "    return x >= 0\n",
        "\n",
        "list_of_numbers = [ 8, -1, -3, 1, 7, 12, 0]\n",
        "positive_numbers = list(filter(is_positive_number, list_of_numbers))\n",
        "print(positive_numbers)\n"
      ],
      "execution_count": 0,
      "outputs": []
    },
    {
      "cell_type": "markdown",
      "metadata": {
        "id": "EYc34555aiY6",
        "colab_type": "text"
      },
      "source": [
        "# File Systems\n",
        "\n",
        "There are **three** different locations for files:\n",
        "\n",
        "- Local: On your hard drive\n",
        "    - Windows: `C:/Users/netid`\n",
        "    - macOS: `/Users/netid`\n",
        "    - Linux: `/home/netid`\n",
        "- External: On the internet\n",
        "    - via URL like: https://archive.ics.uci.edu/ml/machine-learning-databases/wine/wine.data\n",
        "- Google Drive: On your google drive\n",
        "    - Accessible through: `/content/drive/My Drive/folder/file.txt`"
      ]
    },
    {
      "cell_type": "markdown",
      "metadata": {
        "id": "15-0y2iobOj3",
        "colab_type": "text"
      },
      "source": [
        "To use files on Google Colab from your Google Drive, first mount it.\n",
        "\n",
        "**Note:** This is done by default at the top of each workbook. We also include an `is_google_colab` variable."
      ]
    },
    {
      "cell_type": "markdown",
      "metadata": {
        "id": "N-00d7IuhkQD",
        "colab_type": "text"
      },
      "source": [
        "#### Get Current Working Directory"
      ]
    },
    {
      "cell_type": "code",
      "metadata": {
        "id": "Prkfml67hea2",
        "colab_type": "code",
        "colab": {
          "base_uri": "https://localhost:8080/",
          "height": 34
        },
        "outputId": "8a2bca79-b483-4f1b-a72b-fc6c49769443"
      },
      "source": [
        "# Retrieve working directory\n",
        "import os\n",
        "\n",
        "current_path = os.getcwd()\n",
        "print(current_path)"
      ],
      "execution_count": 25,
      "outputs": [
        {
          "output_type": "stream",
          "text": [
            "/content\n"
          ],
          "name": "stdout"
        }
      ]
    },
    {
      "cell_type": "markdown",
      "metadata": {
        "id": "zx2reXx7cPaz",
        "colab_type": "text"
      },
      "source": [
        "### Mount Google Drive\n"
      ]
    },
    {
      "cell_type": "code",
      "metadata": {
        "id": "FUo0iVjSahtx",
        "colab_type": "code",
        "colab": {
          "base_uri": "https://localhost:8080/",
          "height": 122
        },
        "outputId": "e829ba98-225d-48b0-ab86-13113328dab7"
      },
      "source": [
        "try:\n",
        "  from google.colab import drive\n",
        "  # Mount to obtain access to files on Google Drive\n",
        "  drive.mount('/content/drive', force_remount = True)\n",
        "except:\n",
        "  print(\"Notebook is begin run locally or through another source.\")"
      ],
      "execution_count": 14,
      "outputs": [
        {
          "output_type": "stream",
          "text": [
            "Go to this URL in a browser: https://accounts.google.com/o/oauth2/auth?client_id=947318989803-6bn6qk8qdgf4n4g3pfee6491hc0brc4i.apps.googleusercontent.com&redirect_uri=urn%3aietf%3awg%3aoauth%3a2.0%3aoob&response_type=code&scope=email%20https%3a%2f%2fwww.googleapis.com%2fauth%2fdocs.test%20https%3a%2f%2fwww.googleapis.com%2fauth%2fdrive%20https%3a%2f%2fwww.googleapis.com%2fauth%2fdrive.photos.readonly%20https%3a%2f%2fwww.googleapis.com%2fauth%2fpeopleapi.readonly\n",
            "\n",
            "Enter your authorization code:\n",
            "··········\n",
            "Mounted at /content/drive\n"
          ],
          "name": "stdout"
        }
      ]
    },
    {
      "cell_type": "markdown",
      "metadata": {
        "id": "RqtnvD4xcD7e",
        "colab_type": "text"
      },
      "source": [
        "### Access and Write File\n",
        "\n",
        "- `w`: write\n",
        "- `r`: read\n",
        "- `a`: append\n",
        "\n",
        "**Note:** `w+` gives both **read** and **write**.\n"
      ]
    },
    {
      "cell_type": "code",
      "metadata": {
        "id": "tX5UxSN-cCjc",
        "colab_type": "code",
        "colab": {
          "base_uri": "https://localhost:8080/",
          "height": 85
        },
        "outputId": "f4189991-5a66-4a80-bff2-d6e7475661f9"
      },
      "source": [
        "# Attempt a write to file\n",
        "with open('/content/drive/My Drive/foo.txt', 'w') as f:\n",
        "  f.write('Hello Google Drive!')\n",
        "\n",
        "# View Data written\n",
        "with open('/content/drive/My Drive/foo.txt', 'r') as f:\n",
        "  file_contents = f.read()\n",
        "  print(f\"Viewing contents from python... \\n {file_contents}\")\n",
        "\n",
        "# View data \n",
        "!echo \"Viewing contents from terminal... \"\n",
        "!cat /content/drive/My\\ Drive/foo.txt"
      ],
      "execution_count": 24,
      "outputs": [
        {
          "output_type": "stream",
          "text": [
            "Viewing contents from python... \n",
            " Hello Google Drive!\n",
            "Viewing contents from terminal... \n",
            "Hello Google Drive!"
          ],
          "name": "stdout"
        }
      ]
    },
    {
      "cell_type": "markdown",
      "metadata": {
        "id": "-kqPz4s5cSSe",
        "colab_type": "text"
      },
      "source": [
        "### Unmount Google Drive\n",
        "\n",
        "The following will propogate changes to Google Drive and remove the drive."
      ]
    },
    {
      "cell_type": "code",
      "metadata": {
        "colab_type": "code",
        "id": "D78AM1fFt2ty",
        "outputId": "7bbc2962-6d8d-4108-85b7-0cd87e2c6486",
        "colab": {
          "base_uri": "https://localhost:8080/",
          "height": 51
        }
      },
      "source": [
        "try:\n",
        "   drive.flush_and_unmount()\n",
        "   print(\"All changes made in this colab session should now be visible in Drive.\")\n",
        "except:\n",
        "   print(\"Not on colab.\")"
      ],
      "execution_count": 12,
      "outputs": [
        {
          "output_type": "stream",
          "text": [
            "Drive not mounted, so nothing to flush and unmount.\n",
            "All changes made in this colab session should now be visible in Drive.\n"
          ],
          "name": "stdout"
        }
      ]
    },
    {
      "cell_type": "markdown",
      "metadata": {
        "id": "GlJjcoTIkrGm",
        "colab_type": "text"
      },
      "source": [
        "# Pandas\n",
        "\n"
      ]
    },
    {
      "cell_type": "markdown",
      "metadata": {
        "id": "r6nHUwAnktNO",
        "colab_type": "text"
      },
      "source": [
        "## Importing a package\n",
        "\n",
        "Three ways to import:\n",
        "\n",
        "- `import pandas`\n",
        "   - all sub-modules and functions in the pandas module are accessible with pandas.*\n",
        "   - e.g: `pandas.DataFrame({'A': 1.})`\n",
        "- `import pandas as pd`,\n",
        "   - create an alias for the namespace\n",
        "   - e.g: `pd.DataFrame({'A': 1.})`\n",
        "- `from pandas import *`\n",
        "   - all functions will be loaded into the local namespace.\n",
        "   - e.g: `DataFrame({'A': 1.})`"
      ]
    },
    {
      "cell_type": "markdown",
      "metadata": {
        "id": "cwzDeKdglAUJ",
        "colab_type": "text"
      },
      "source": [
        "### Check package is installed"
      ]
    },
    {
      "cell_type": "code",
      "metadata": {
        "id": "mTta55sIlJ3h",
        "colab_type": "code",
        "colab": {
          "base_uri": "https://localhost:8080/",
          "height": 34
        },
        "outputId": "41680811-1ccd-43d3-d981-c7625282ecb6"
      },
      "source": [
        "import sys\n",
        "# Found\n",
        "'pandas' in sys.modules"
      ],
      "execution_count": 27,
      "outputs": [
        {
          "output_type": "execute_result",
          "data": {
            "text/plain": [
              "True"
            ]
          },
          "metadata": {
            "tags": []
          },
          "execution_count": 27
        }
      ]
    },
    {
      "cell_type": "code",
      "metadata": {
        "id": "2mCVVusglPN0",
        "colab_type": "code",
        "colab": {
          "base_uri": "https://localhost:8080/",
          "height": 34
        },
        "outputId": "5277e011-82b4-403e-92bb-46955cc2e5d9"
      },
      "source": [
        "# Not found\n",
        "'toad' in sys.modules\n"
      ],
      "execution_count": 28,
      "outputs": [
        {
          "output_type": "execute_result",
          "data": {
            "text/plain": [
              "False"
            ]
          },
          "metadata": {
            "tags": []
          },
          "execution_count": 28
        }
      ]
    },
    {
      "cell_type": "markdown",
      "metadata": {
        "id": "GqUh1-msL5Yx",
        "colab_type": "text"
      },
      "source": [
        "## Data Frames\n",
        "\n",
        "Pandas provides the _R_ equivalent of Data Frames in _Python_. To access it, let's import the package using a namespace alias and check the version."
      ]
    },
    {
      "cell_type": "code",
      "metadata": {
        "id": "5ayiUBV9y7L0",
        "colab_type": "code",
        "colab": {
          "base_uri": "https://localhost:8080/",
          "height": 34
        },
        "outputId": "0625a1c4-ac75-4073-d072-054a90ba7d25"
      },
      "source": [
        "import pandas as pd\n",
        "pd.__version__"
      ],
      "execution_count": 29,
      "outputs": [
        {
          "output_type": "execute_result",
          "data": {
            "text/plain": [
              "'0.25.3'"
            ]
          },
          "metadata": {
            "tags": []
          },
          "execution_count": 29
        }
      ]
    },
    {
      "cell_type": "markdown",
      "metadata": {
        "id": "nUoB_PKimZDu",
        "colab_type": "text"
      },
      "source": [
        "From there, we'll construct a DataFrame."
      ]
    },
    {
      "cell_type": "code",
      "metadata": {
        "id": "Tix0zxAxmTwW",
        "colab_type": "code",
        "colab": {}
      },
      "source": [
        "df = pd.DataFrame(\n",
        "{\"a\" : [4 ,5, 6],\n",
        "\"b\" : [7, 8, 9],\n",
        "\"c\" : [10, 11, 12]},\n",
        "index = [1, 2, 3])\n"
      ],
      "execution_count": 0,
      "outputs": []
    },
    {
      "cell_type": "markdown",
      "metadata": {
        "id": "73orFwpSmj3w",
        "colab_type": "text"
      },
      "source": [
        "The data frame can be printed with:"
      ]
    },
    {
      "cell_type": "code",
      "metadata": {
        "id": "wNmiLAGWmpWj",
        "colab_type": "code",
        "colab": {
          "base_uri": "https://localhost:8080/",
          "height": 210
        },
        "outputId": "85ee27ac-bda8-4175-9120-bad95ab46574"
      },
      "source": [
        "# Text\n",
        "print(df)"
      ],
      "execution_count": 33,
      "outputs": [
        {
          "output_type": "stream",
          "text": [
            "   a  b   c\n",
            "1  4  7  10\n",
            "2  5  8  11\n",
            "3  6  9  12\n"
          ],
          "name": "stdout"
        },
        {
          "output_type": "display_data",
          "data": {
            "text/html": [
              "<div>\n",
              "<style scoped>\n",
              "    .dataframe tbody tr th:only-of-type {\n",
              "        vertical-align: middle;\n",
              "    }\n",
              "\n",
              "    .dataframe tbody tr th {\n",
              "        vertical-align: top;\n",
              "    }\n",
              "\n",
              "    .dataframe thead th {\n",
              "        text-align: right;\n",
              "    }\n",
              "</style>\n",
              "<table border=\"1\" class=\"dataframe\">\n",
              "  <thead>\n",
              "    <tr style=\"text-align: right;\">\n",
              "      <th></th>\n",
              "      <th>a</th>\n",
              "      <th>b</th>\n",
              "      <th>c</th>\n",
              "    </tr>\n",
              "  </thead>\n",
              "  <tbody>\n",
              "    <tr>\n",
              "      <th>1</th>\n",
              "      <td>4</td>\n",
              "      <td>7</td>\n",
              "      <td>10</td>\n",
              "    </tr>\n",
              "    <tr>\n",
              "      <th>2</th>\n",
              "      <td>5</td>\n",
              "      <td>8</td>\n",
              "      <td>11</td>\n",
              "    </tr>\n",
              "    <tr>\n",
              "      <th>3</th>\n",
              "      <td>6</td>\n",
              "      <td>9</td>\n",
              "      <td>12</td>\n",
              "    </tr>\n",
              "  </tbody>\n",
              "</table>\n",
              "</div>"
            ],
            "text/plain": [
              "   a  b   c\n",
              "1  4  7  10\n",
              "2  5  8  11\n",
              "3  6  9  12"
            ]
          },
          "metadata": {
            "tags": []
          }
        }
      ]
    },
    {
      "cell_type": "code",
      "metadata": {
        "id": "6z4YxJ8Em7ea",
        "colab_type": "code",
        "colab": {
          "base_uri": "https://localhost:8080/",
          "height": 142
        },
        "outputId": "34b10fcc-a69c-43ef-acbf-659a82981f4f"
      },
      "source": [
        "# Pretty\n",
        "display(df)"
      ],
      "execution_count": 34,
      "outputs": [
        {
          "output_type": "display_data",
          "data": {
            "text/html": [
              "<div>\n",
              "<style scoped>\n",
              "    .dataframe tbody tr th:only-of-type {\n",
              "        vertical-align: middle;\n",
              "    }\n",
              "\n",
              "    .dataframe tbody tr th {\n",
              "        vertical-align: top;\n",
              "    }\n",
              "\n",
              "    .dataframe thead th {\n",
              "        text-align: right;\n",
              "    }\n",
              "</style>\n",
              "<table border=\"1\" class=\"dataframe\">\n",
              "  <thead>\n",
              "    <tr style=\"text-align: right;\">\n",
              "      <th></th>\n",
              "      <th>a</th>\n",
              "      <th>b</th>\n",
              "      <th>c</th>\n",
              "    </tr>\n",
              "  </thead>\n",
              "  <tbody>\n",
              "    <tr>\n",
              "      <th>1</th>\n",
              "      <td>4</td>\n",
              "      <td>7</td>\n",
              "      <td>10</td>\n",
              "    </tr>\n",
              "    <tr>\n",
              "      <th>2</th>\n",
              "      <td>5</td>\n",
              "      <td>8</td>\n",
              "      <td>11</td>\n",
              "    </tr>\n",
              "    <tr>\n",
              "      <th>3</th>\n",
              "      <td>6</td>\n",
              "      <td>9</td>\n",
              "      <td>12</td>\n",
              "    </tr>\n",
              "  </tbody>\n",
              "</table>\n",
              "</div>"
            ],
            "text/plain": [
              "   a  b   c\n",
              "1  4  7  10\n",
              "2  5  8  11\n",
              "3  6  9  12"
            ]
          },
          "metadata": {
            "tags": []
          }
        }
      ]
    },
    {
      "cell_type": "code",
      "metadata": {
        "id": "c_qTSXDSmkGV",
        "colab_type": "code",
        "colab": {}
      },
      "source": [
        "\n",
        "city_names = pd.Series(['San Francisco', 'San Jose', 'Sacramento'])\n",
        "population = pd.Series([852469, 1015785, 485199])\n",
        "\n",
        "pd.DataFrame({ 'City name': city_names, 'Population': population })"
      ],
      "execution_count": 0,
      "outputs": []
    }
  ]
}